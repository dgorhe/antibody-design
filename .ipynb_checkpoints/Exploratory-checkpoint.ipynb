{
 "cells": [
  {
   "cell_type": "markdown",
   "id": "992dc30b",
   "metadata": {},
   "source": [
    "# Questions"
   ]
  },
  {
   "cell_type": "markdown",
   "id": "8fc6b215",
   "metadata": {},
   "source": [
    "- What does it mean to \"model\" an antibody? Do we just give an amino acid sequence? Should we return some kind of genomic sequence?\n",
    "    - For example, what if we wanted to return a family of antibodies with some common characteristics?\n",
    "    - Should we return **how** to make the antibody? Like some sort of manufacturing process to actually create the thing we think works?\n",
    "- How does an antibody work?\n",
    "- What publically available data do we have for naturally occurring and synthetic antibodies?\n",
    "- What biologically relevant, predictive properties do these data sets have?"
   ]
  },
  {
   "cell_type": "markdown",
   "id": "81374763",
   "metadata": {},
   "source": [
    "# Assumptions"
   ]
  },
  {
   "cell_type": "markdown",
   "id": "e0a2413c",
   "metadata": {},
   "source": [
    "For now let's simplify the model to predicting the amino acid sequence of the antigen binding site (paratope) within the antibody given information about the antigen and priors about paratope possibilities. The information about the antigen includes information about it's primary, secondary, and tertiary structure. We will avoid antigens with quaternary structure (i.e. coordinating subunits)."
   ]
  },
  {
   "cell_type": "markdown",
   "id": "136c29f3",
   "metadata": {},
   "source": [
    "# Modeling the Problem"
   ]
  },
  {
   "cell_type": "markdown",
   "id": "fde3ecca",
   "metadata": {},
   "source": [
    "The most straightforward way I can think to approach this problem is to reduce the sample space of possible antibodies based on information about the antigen and then use a molecular dynamics simulations to determine the best possible antigen after that. I believe many of the machine learning applications will be in reducing the sample space of antibodies rather than replacing the simulation aspect. "
   ]
  },
  {
   "cell_type": "markdown",
   "id": "71c3f2cb",
   "metadata": {},
   "source": [
    "$$\\text{All permutations of amino acids in paratope}$$\n",
    "$$\\downarrow$$\n",
    "$$\\text{Possible paratopes from V(D)J Recombination}$$\n",
    "$$\\downarrow$$\n",
    "$$\\text{Most likley paratopes based on Markov model with some cutoff }\\alpha$$\n",
    "$$\\downarrow$$\n",
    "$$\\text{Antigen specific paratopes}$$\n",
    "$$\\downarrow$$\n",
    "$$\\text{Molecular dynamics simulations}$$"
   ]
  },
  {
   "cell_type": "markdown",
   "id": "9197aabb",
   "metadata": {},
   "source": [
    "We'll use the SARS-CoV-2 spike glycoprotein as an example antigen. It's obviously still very relevant and quite well studied plus we can compare our results to available antibody treatments to see how well our models perform. Namely we can look at how \"far\" our predictions are from the following antibodies known to bind to the SARS-CoV-2 spike glycoprotein\n",
    "- https://www.rcsb.org/structure/7bwj\n",
    "- https://www.rcsb.org/structure/7bz5\n",
    "- https://www.rcsb.org/structure/7CR5\n",
    "- https://www.rcsb.org/structure/7cm4"
   ]
  },
  {
   "cell_type": "markdown",
   "id": "c1cadac6",
   "metadata": {},
   "source": [
    "I'm hesitant to take a purely machine learning approach to this problem because I'm not sure what an appropriate loss function would be in this case. We can't use antigen-antigen distance metrics nor can we use antibody-antibody distance metrics because neither of those capture the antibody-antigen complex relationsip. Furthermore, accurate bonding between antibodies and antigens isn't necessarily predictive across different antibodies and antigens. We would need to map that binding to some sort of high-dimensional, potentially unintelligible by humans, latent space within which we could find global and local extrema. "
   ]
  },
  {
   "cell_type": "markdown",
   "id": "175c4af4",
   "metadata": {},
   "source": [
    "# Implementation"
   ]
  },
  {
   "cell_type": "markdown",
   "id": "5016f26a",
   "metadata": {},
   "source": [
    "## Completely Naive Paratope Sample Space"
   ]
  },
  {
   "cell_type": "markdown",
   "id": "8936410c",
   "metadata": {},
   "source": [
    "Each paratope consists of approximately [15 amino acids](https://www.ncbi.nlm.nih.gov/books/NBK2396/#:~:text=Each%20paratope%20has%20about%2015,than%20particular%20amino%20acid%20compositions.). Under a completely naive assumption, each amino acid can appear independent of any other amino acid. As such, we can use the counting principle to derive an upper bound:\n",
    "\n",
    "$$(20)^{15} = 3.2768e19 $$"
   ]
  },
  {
   "cell_type": "markdown",
   "id": "30e4cc58",
   "metadata": {},
   "source": [
    "Ok so this is a lot of possibilities and some of these are obviously irrelevant. For example, imagine a sequence entirely composed of glycines. This would probably not exist as a possible antibody state. Let's further filter by considering V(D)J recombination."
   ]
  },
  {
   "cell_type": "markdown",
   "id": "72b94d3b",
   "metadata": {},
   "source": [
    "## V(D)J Recombination"
   ]
  },
  {
   "cell_type": "markdown",
   "id": "fa11828f",
   "metadata": {},
   "source": []
  },
  {
   "cell_type": "code",
   "execution_count": null,
   "id": "a95f03c4",
   "metadata": {},
   "outputs": [],
   "source": []
  }
 ],
 "metadata": {
  "kernelspec": {
   "display_name": "Python 3 (ipykernel)",
   "language": "python",
   "name": "python3"
  },
  "language_info": {
   "codemirror_mode": {
    "name": "ipython",
    "version": 3
   },
   "file_extension": ".py",
   "mimetype": "text/x-python",
   "name": "python",
   "nbconvert_exporter": "python",
   "pygments_lexer": "ipython3",
   "version": "3.9.10"
  }
 },
 "nbformat": 4,
 "nbformat_minor": 5
}
