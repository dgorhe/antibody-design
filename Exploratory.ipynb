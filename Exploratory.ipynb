{
 "cells": [
  {
   "cell_type": "markdown",
   "id": "992dc30b",
   "metadata": {},
   "source": [
    "# Questions"
   ]
  },
  {
   "cell_type": "markdown",
   "id": "8fc6b215",
   "metadata": {},
   "source": [
    "- What does it mean to \"model\" an antibody? Do we just give an amino acid sequence? Should we return some kind of genomic sequence?\n",
    "    - For example, what if we wanted to return a family of antibodies with some common characteristics?\n",
    "    - Should we return **how** to make the antibody? Like some sort of manufacturing process to actually create the thing we think works?\n",
    "- How does an antibody work?\n",
    "- What publically available data do we have for naturally occurring and synthetic antibodies?\n",
    "- What biologically relevant, predictive properties do these data sets have?"
   ]
  },
  {
   "cell_type": "markdown",
   "id": "355be7ac",
   "metadata": {},
   "source": [
    "# Assumptions"
   ]
  },
  {
   "cell_type": "markdown",
   "id": "f4dcfc0a",
   "metadata": {},
   "source": [
    "For now let's simplify the model to predicting the amino acid sequence of the antigen binding site (paratope) within the antibody given information about the antigen and priors about paratope possibilities. The information about the antigen includes information about it's primary, secondary, and tertiary structure. We will avoid antigens with quaternary structure (i.e. coordinating subunits)."
   ]
  },
  {
   "cell_type": "markdown",
   "id": "136c29f3",
   "metadata": {},
   "source": [
    "# Modeling the Problem"
   ]
  },
  {
   "cell_type": "markdown",
   "id": "fde3ecca",
   "metadata": {},
   "source": [
    "The most straightforward way I can think to approach this problem is to reduce the sample space of possible antibodies based on information about the antigen and then use a molecular dynamics simulations to determine the best possible antigen after that. I believe many of the machine learning applications will be in reducing the sample space of antibodies rather than replacing the simulation aspect. "
   ]
  },
  {
   "cell_type": "markdown",
   "id": "6c455615",
   "metadata": {},
   "source": [
    "$$\\text{All permutations of amino acids in paratope}$$\n",
    "$$\\downarrow$$\n",
    "$$\\text{Possible paratopes from V(D)J Recombination}$$\n",
    "$$\\downarrow$$\n",
    "$$\\text{Most likley paratopes based on Markov model with some cutoff }\\alpha$$\n",
    "$$\\downarrow$$\n",
    "$$\\text{Antigen specific paratopes}$$\n",
    "$$\\downarrow$$\n",
    "$$\\text{Molecular dynamics simulations}$$"
   ]
  },
  {
   "cell_type": "markdown",
   "id": "7135b823",
   "metadata": {},
   "source": [
    "We'll use the SARS-CoV-2 spike glycoprotein as an example antigen. It's obviously still very relevant and quite well studied plus we can compare our results to available antibody treatments to see how well our models perform. Namely we can look at how \"far\" our predictions are from the following antibodies known to bind to the SARS-CoV-2 spike glycoprotein\n",
    "- https://www.rcsb.org/structure/7bwj\n",
    "- https://www.rcsb.org/structure/7bz5\n",
    "- https://www.rcsb.org/structure/7CR5\n",
    "- https://www.rcsb.org/structure/7cm4"
   ]
  },
  {
   "cell_type": "markdown",
   "id": "d87698aa",
   "metadata": {},
   "source": [
    "I'm hesitant to take a purely machine learning approach to this problem because I'm not sure what an appropriate loss function would be in this case. We can't use antigen-antigen distance metrics nor can we use antibody-antibody distance metrics because neither of those capture the antibody-antigen complex relationsip. Furthermore, accurate bonding between antibodies and antigens isn't necessarily predictive across different antibodies and antigens. We would need to map that binding to some sort of high-dimensional, potentially unintelligible by humans, latent space within which we could find global and local extrema. "
   ]
  },
  {
   "cell_type": "markdown",
   "id": "dd746803",
   "metadata": {},
   "source": [
    "# Implementation"
   ]
  },
  {
   "cell_type": "markdown",
   "id": "033cbb94",
   "metadata": {},
   "source": [
    "## Completely Naive Paratope Sample Space"
   ]
  },
  {
   "cell_type": "markdown",
   "id": "5c122422",
   "metadata": {},
   "source": [
    "Each paratope consists of approximately [15 amino acids](https://www.ncbi.nlm.nih.gov/books/NBK2396/#:~:text=Each%20paratope%20has%20about%2015,than%20particular%20amino%20acid%20compositions.). Under a completely naive assumption, each amino acid can appear independent of any other amino acid. As such, we can use the counting principle to derive an upper bound:\n",
    "\n",
    "$$(20)^{15} = 3.2768e19 $$"
   ]
  },
  {
   "cell_type": "markdown",
   "id": "4bac4b8e",
   "metadata": {},
   "source": [
    "Ok so this is a lot of possibilities and some of these are obviously irrelevant. For example, imagine a sequence entirely composed of glycines. This would probably not exist as a possible antibody state. Let's further filter by considering V(D)J recombination."
   ]
  },
  {
   "cell_type": "markdown",
   "id": "e752dad7",
   "metadata": {},
   "source": [
    "## V(D)J Recombination"
   ]
  },
  {
   "cell_type": "markdown",
   "id": "ce2df9d8",
   "metadata": {},
   "source": [
    "In V(D)J recombination, developing lymphocytes combine different variable (V), diversity (D), and joining (J) regions to produce a wide array of antibodies. Heavy chains incorporate diversity regions whereas light chains do not. Light chains can recombine gene segments from $\\kappa$ regions or $\\lambda$ regions. There are [200 possible $\\kappa$ light chains and 120 possible $\\lambda$ light chains](https://www.ncbi.nlm.nih.gov/books/NBK27140/#:~:text=Many%20different%20V%20regions%20can,200%20different%20V%CE%BA%20regions.). However, since there are ~11,000 possible heavy chains there are ~3.52e6 possible antibodies that can be generated in humans. Since we're focusing on light chain antibodies, we'll only look at the 320 possibilities for light chains for now. Within that we can make a further simplification since we're only concerned with the antigen binding site (aka paratope). That is, we can focus on the different variable regions exclusively since those are what actually bind to our antigen. Now we only have to consider [70 variable regions](https://www.ncbi.nlm.nih.gov/books/NBK27140/) (40 $V_{\\kappa}$ + 30 $V_{\\lambda}$)."
   ]
  },
  {
   "cell_type": "markdown",
   "id": "ef5a0ef4",
   "metadata": {},
   "source": [
    "### What information are we losing?"
   ]
  },
  {
   "cell_type": "markdown",
   "id": "2c9b8d20",
   "metadata": {},
   "source": [
    "Narrowing our search space from $3.2768e19 \\rightarrow 70$ should make us question what kind of information we're losing out on. What's the consequence of ignoring joining regions in light chains? Of ignoring heavy chains all together? In short there is a ton of information we're losing out on. Namely the heavy chain exists to help antibodies become embedded in transmembrane regions and there are even cases where heavy-chain antibodies can themselves [bind to certain antigens](https://en.wikipedia.org/wiki/Heavy-chain_antibody#:~:text=A%20heavy%2Dchain%20antibody%20is,VH%20and%20VL)! This information would be incredibly important for predicting things like T-cell or B-cell function. Perhaps designing heavy-chain exclusive antibodies is much cheaper or more effective. In our case, we're only focused on binding and ignoring all other factors. "
   ]
  },
  {
   "cell_type": "markdown",
   "id": "98405471",
   "metadata": {},
   "source": [
    "## Markov Modeling of Light Chain Sequences"
   ]
  },
  {
   "cell_type": "markdown",
   "id": "e0ae938b",
   "metadata": {},
   "source": [
    "Let's use existing amino acid sequences from light chains to determine the transition probabilities for amino acids. We can then use random walks to create additional candidates for simulation."
   ]
  },
  {
   "cell_type": "code",
   "execution_count": 1,
   "id": "a1793076",
   "metadata": {},
   "outputs": [],
   "source": [
    "import numpy as np"
   ]
  },
  {
   "cell_type": "code",
   "execution_count": null,
   "id": "c37fd396",
   "metadata": {},
   "outputs": [],
   "source": [
    "# load amino acid sequences of variable regions"
   ]
  },
  {
   "cell_type": "code",
   "execution_count": null,
   "id": "8b8cf456",
   "metadata": {},
   "outputs": [],
   "source": [
    "def calculateTransitionProbs(_kappa, _lambda)\n",
    "    light_chain_variable = _lambda + _kappa\n",
    "    counts = {}\n",
    "\n",
    "    for v in light_chain_variable:\n",
    "        for i in range(len(v) - 1):\n",
    "            if v[i:i+1] not in counts:\n",
    "                counts[v[i:i+1]] = 1\n",
    "            else:\n",
    "                counts[v[i:i+1]] += 1\n",
    "        \n",
    "    normalizing_factors = {}\n",
    "    \n",
    "    for pair, count in counts.items():\n",
    "        if pair[0] not in counts:\n",
    "            counts[pair[0]] = 1\n",
    "        else:\n",
    "            counts[pair[0]] += 1\n",
    "            \n",
    "    for c in counts:\n",
    "        "
   ]
  }
 ],
 "metadata": {
  "kernelspec": {
   "display_name": "Python 3 (ipykernel)",
   "language": "python",
   "name": "python3"
  },
  "language_info": {
   "codemirror_mode": {
    "name": "ipython",
    "version": 3
   },
   "file_extension": ".py",
   "mimetype": "text/x-python",
   "name": "python",
   "nbconvert_exporter": "python",
   "pygments_lexer": "ipython3",
   "version": "3.9.10"
  }
 },
 "nbformat": 4,
 "nbformat_minor": 5
}
